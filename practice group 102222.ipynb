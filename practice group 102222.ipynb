{
 "cells": [
  {
   "cell_type": "code",
   "execution_count": 4,
   "id": "3af1ef11",
   "metadata": {},
   "outputs": [
    {
     "name": "stdout",
     "output_type": "stream",
     "text": [
      "14\n",
      "0\n"
     ]
    }
   ],
   "source": [
    "def sum_honey(hunny_jars):\n",
    "\tsum = 0\n",
    "\tfor i in hunny_jars:\n",
    "\t\tsum += i\n",
    "\treturn sum\n",
    "\n",
    "hunny_jars = [2, 3, 4, 5]\n",
    "print(sum_honey(hunny_jars))\n",
    "\n",
    "hunny_jars = []\n",
    "print(sum_honey(hunny_jars))"
   ]
  },
  {
   "cell_type": "code",
   "execution_count": 9,
   "id": "6b72d715",
   "metadata": {},
   "outputs": [
    {
     "name": "stdout",
     "output_type": "stream",
     "text": [
      "Poohs To Dos:\n",
      "1. Count all the bees in the hive\n",
      "2. Chase all the clouds from the sky\n",
      "3. Think\n",
      "4. Stoutness Exercises\n",
      "\n",
      "Poohs To Dos:\n",
      "\n"
     ]
    }
   ],
   "source": [
    "def print_todo_list(task):\n",
    "\tstring = 'Poohs To Dos:\\n'\n",
    "\tfor i in range(len(task)):\n",
    "\t\tstring += f'{i+1}. {task[i]}\\n'\n",
    "\treturn string\n",
    "\n",
    "task = [\"Count all the bees in the hive\", \"Chase all the clouds from the sky\", \"Think\", \"Stoutness Exercises\"]\n",
    "print(print_todo_list(task))\n",
    "\n",
    "task = []\n",
    "print(print_todo_list(task))"
   ]
  },
  {
   "cell_type": "code",
   "execution_count": 6,
   "id": "8d797aca",
   "metadata": {},
   "outputs": [
    {
     "name": "stdout",
     "output_type": "stream",
     "text": [
      "nanana batman!\n"
     ]
    }
   ],
   "source": [
    "def nana_batman(x):\n",
    "    i = 0 \n",
    "    string = ''\n",
    "    while i < x:\n",
    "        string += 'na'\n",
    "        i += 1\n",
    "    return string + ' batman!'\n",
    "print(nana_batman(3))"
   ]
  },
  {
   "cell_type": "code",
   "execution_count": 7,
   "id": "b616400b",
   "metadata": {},
   "outputs": [
    {
     "name": "stdout",
     "output_type": "stream",
     "text": [
      "fluff with stuffed all cubby little tubby\n",
      "Pooh\n"
     ]
    }
   ],
   "source": [
    "def reverse_sentence(sentence):\n",
    "    sentence = sentence.strip().split()\n",
    "    return ' '.join(sentence[::-1])\n",
    "\n",
    "sentence = \"tubby little cubby all stuffed with fluff\"\n",
    "print(reverse_sentence(sentence))\n",
    "\n",
    "sentence = \"Pooh\"\n",
    "print(reverse_sentence(sentence))"
   ]
  },
  {
   "cell_type": "code",
   "execution_count": 8,
   "id": "532d7c1c",
   "metadata": {},
   "outputs": [
    {
     "name": "stdout",
     "output_type": "stream",
     "text": [
      "9\n",
      "4\n"
     ]
    }
   ],
   "source": [
    "def sum_of_digits(num):\n",
    "    if num == 0:\n",
    "        return 0\n",
    "    return num % 10 + sum_of_digits(num // 10)\n",
    "\n",
    "\n",
    "num = 423\n",
    "print(sum_of_digits(num))\n",
    "\n",
    "num = 4\n",
    "print(sum_of_digits(num))"
   ]
  },
  {
   "cell_type": "code",
   "execution_count": 9,
   "id": "d68da8d9",
   "metadata": {},
   "outputs": [
    {
     "name": "stdout",
     "output_type": "stream",
     "text": [
      "3\n",
      "0\n"
     ]
    }
   ],
   "source": [
    "def make_divisible_by_3(nums):\n",
    "    count = 0\n",
    "    for num in nums:\n",
    "        if num % 3 != 0:\n",
    "            count += 1\n",
    "    return count\n",
    "\n",
    "nums = [1, 2, 3, 4]\n",
    "print(make_divisible_by_3(nums))\n",
    "\n",
    "nums = [3, 6, 9]\n",
    "print(make_divisible_by_3(nums))"
   ]
  },
  {
   "cell_type": "code",
   "execution_count": 12,
   "id": "9127258d",
   "metadata": {},
   "outputs": [
    {
     "name": "stdout",
     "output_type": "stream",
     "text": [
      "5\n",
      "2\n"
     ]
    }
   ],
   "source": [
    "def good_pairs(pile1, pile2, k):\n",
    "\tcount = 0\n",
    "\tfor i in range(len(pile1)):\n",
    "\t\tfor j in range(len(pile2)):\n",
    "\t\t\tif (pile1[i] % (pile2[j] * k)) == 0:\n",
    "\t\t\t\tcount += 1\n",
    "\treturn count\n",
    "\n",
    "pile1 = [1, 3, 4]\n",
    "pile2 = [1, 3, 4]\n",
    "k = 1\n",
    "print(good_pairs(pile1, pile2, k))\n",
    "\n",
    "pile1 = [1, 2, 4, 12]\n",
    "pile2 = [2, 4]\n",
    "k = 3\n",
    "print(good_pairs(pile1, pile2, k))\n"
   ]
  },
  {
   "cell_type": "code",
   "execution_count": 3,
   "id": "fa1d4603",
   "metadata": {},
   "outputs": [
    {
     "name": "stdout",
     "output_type": "stream",
     "text": [
      "3\n"
     ]
    }
   ],
   "source": [
    "def count_endangered_species(endangered_species, observed_species):\n",
    "    freq = {}\n",
    "    for i in observed_species:\n",
    "        freq[i] = freq.get(i,0) + 1\n",
    "\n",
    "    # endangered = [*endangered_species]\n",
    "    endangered = set(endangered_species)\n",
    "    \n",
    "    ans = 0\n",
    "    for j in endangered:\n",
    "        if j in freq:\n",
    "            ans += freq[j]\n",
    "    return ans\n",
    "\n",
    "endangered_species1 = \"aA\"\n",
    "observed_species1 = \"aAAbbbb\"\n",
    "\n",
    "print(count_endangered_species(endangered_species1, observed_species1))"
   ]
  },
  {
   "cell_type": "code",
   "execution_count": null,
   "id": "37a4d810",
   "metadata": {},
   "outputs": [
    {
     "name": "stdout",
     "output_type": "stream",
     "text": [
      "[[\"O'Keefe\", 'Kahlo', 'Picasso', 'Warhol'], [\"O'Keefe\", 'Kahlo'], [\"O'Keefe\"]]\n",
      "[['Kusama', 'Monet', 'Ofili', 'Banksy']]\n"
     ]
    }
   ],
   "source": [
    "def organize_exhibition(collection):\n",
    "    '''\n",
    "    Understand:\n",
    "        i: list of str\n",
    "        o: nested list\n",
    "        c:  The 2D array should contain only the elements of the array collection.\n",
    "            Each row in the 2D array should contain distinct strings.\n",
    "            The number of rows in the 2D array should be minimal.\n",
    "        e: empty list, same strs\n",
    "\n",
    "    Planning:\n",
    "\n",
    "\n",
    "    '''\n",
    "    ans = []\n",
    "    freq = {}\n",
    "    for i in collection:\n",
    "        freq[i] = freq.get(i,0) + 1\n",
    "\n",
    "    max_num = len(collection)\n",
    "    while max_num >  0:\n",
    "        current_ans = []\n",
    "        for j in freq:\n",
    "            if freq[j] > 0:\n",
    "                freq[j] -= 1\n",
    "                current_ans.append(j)\n",
    "                max_num -= 1\n",
    "        ans.append(current_ans)\n",
    "    return ans\n",
    "    \n",
    "        \n",
    "        \n",
    "\n",
    "\n",
    "\n",
    "collection1 = [\"O'Keefe\", \"Kahlo\", \"Picasso\", \"O'Keefe\", \"Warhol\", \n",
    "              \"Kahlo\", \"O'Keefe\"]\n",
    "collection2 = [\"Kusama\", \"Monet\", \"Ofili\", \"Banksy\"]\n",
    "\n",
    "print(organize_exhibition(collection1))\n",
    "print(organize_exhibition(collection2))"
   ]
  },
  {
   "cell_type": "code",
   "execution_count": 16,
   "id": "d5cba3f7",
   "metadata": {},
   "outputs": [
    {
     "name": "stdout",
     "output_type": "stream",
     "text": [
      "['a', 'b', 'b', 'a'] ['dog', 'cat', 'cat', 'dog']\n",
      "None\n"
     ]
    }
   ],
   "source": [
    "def word_pattern(pattern, s):\n",
    "    pattern = [*pattern]\n",
    "    s = s.split(' ')\n",
    "    freq_ = []\n",
    "    print(pattern, s)\n",
    "\n",
    "    if len(pattern) != len(s):\n",
    "        return False\n",
    "    \n",
    "    # freq_p = []\n",
    "    # for i in patterns:\n",
    "    #     freq_p[i] = freq_p.get(i,0) + 1\n",
    "    # print(freq_p)\n",
    "\n",
    "pattern = \"abba\" \n",
    "s = \"dog cat cat dog\"\n",
    "\n",
    "print(word_pattern(pattern, s))"
   ]
  },
  {
   "cell_type": "code",
   "execution_count": null,
   "id": "cafb2691",
   "metadata": {},
   "outputs": [],
   "source": [
    "def is_bal_par(s):\n",
    "    stack = []\n",
    "\n",
    "    for i in s:\n",
    "        if i == '(':\n",
    "            stack.append(i)\n",
    "        else:\n",
    "            if stack:\n",
    "                stack.pop()\n",
    "    return len(stack) == 0\n",
    "\n",
    "\n"
   ]
  },
  {
   "cell_type": "code",
   "execution_count": 1,
   "id": "d558ff55",
   "metadata": {},
   "outputs": [
    {
     "name": "stdout",
     "output_type": "stream",
     "text": [
      "['Thanks for sharing.', 'Love it!', 'Great post!']\n",
      "['Well written.', 'Interesting read.', 'First!']\n"
     ]
    }
   ],
   "source": [
    "'''Understand:\n",
    "    I- list of str\n",
    "    O- list of strs\n",
    "    C - NA\n",
    "    E - empty list\n",
    "plan:\n",
    "    stack\n",
    "\n",
    "    while len(comments) > 0:\n",
    "        stack.append(comments.pop())\n",
    "    return stack\n",
    "\n",
    "'''\n",
    "def reverse_comments_queue(comments):\n",
    "    stack = []\n",
    "\n",
    "    while len(comments) > 0:\n",
    "        stack.append(comments.pop())\n",
    "    return stack\n",
    "\n",
    "\n",
    "\n",
    "print(reverse_comments_queue([\"Great post!\", \"Love it!\", \"Thanks for sharing.\"]))\n",
    "print(reverse_comments_queue([\"First!\", \"Interesting read.\", \"Well written.\"]))"
   ]
  },
  {
   "cell_type": "code",
   "execution_count": 2,
   "id": "6d74d13c",
   "metadata": {},
   "outputs": [
    {
     "name": "stdout",
     "output_type": "stream",
     "text": [
      "['A', 'C', 'B', 'D']\n",
      "[]\n",
      "['Z']\n"
     ]
    }
   ],
   "source": [
    "'''\n",
    "U:\n",
    "    I: list of strs\n",
    "    O: list of performance ids\n",
    "    C: \n",
    "    E: empty list\n",
    "P:\n",
    "    stack = []\n",
    "    stack_cancel = []\n",
    "\n",
    "    for i in changes:\n",
    "        if \"Schedule\" in i:\n",
    "            stack.append(i[-1])\n",
    "\n",
    "        elif i == 'Cancel'and stack: \n",
    "            canceled = stack.pop()\n",
    "            stack_cancel.append(canceled)\n",
    "\n",
    "        elif i == \"Reschedule\":\n",
    "            reschedule = stack_cancel.pop()\n",
    "            stack.append(reschedule)\n",
    "\n",
    "    return stack\n",
    "\n",
    "'''\n",
    "\n",
    "\n",
    "def manage_stage_changes(changes):\n",
    "    stack = []\n",
    "    stack_cancel = []\n",
    "\n",
    "    for i in changes:\n",
    "        if \"Schedule\" in i:\n",
    "            stack.append(i[-1])\n",
    "\n",
    "        elif i == 'Cancel'and stack: \n",
    "            canceled = stack.pop()\n",
    "            stack_cancel.append(canceled)\n",
    "\n",
    "        elif i == \"Reschedule\":\n",
    "            reschedule = stack_cancel.pop()\n",
    "            stack.append(reschedule)\n",
    "\n",
    "    return stack\n",
    "\n",
    "print(manage_stage_changes([\"Schedule A\", \"Schedule B\", \"Cancel\", \"Schedule C\", \"Reschedule\", \"Schedule D\"]))  \n",
    "print(manage_stage_changes([\"Schedule A\", \"Cancel\", \"Schedule B\", \"Cancel\", \"Reschedule\", \"Cancel\"])) \n",
    "print(manage_stage_changes([\"Schedule X\", \"Schedule Y\", \"Cancel\", \"Cancel\", \"Schedule Z\"])) "
   ]
  },
  {
   "cell_type": "code",
   "execution_count": 4,
   "id": "1d75d372",
   "metadata": {},
   "outputs": [
    {
     "name": "stdout",
     "output_type": "stream",
     "text": [
      "[1, 3, 4]\n",
      "[5, 7]\n",
      "[3]\n"
     ]
    }
   ],
   "source": [
    "'''\n",
    "U:\n",
    "    i: list of ints and strs\n",
    "    o: list of ints\n",
    "    c: \n",
    "    e: empty list, starts with back\n",
    "P:\n",
    "    stack\n",
    "\n",
    "    loop through clues\n",
    "        if we find back \n",
    "            pop of stack\n",
    "\n",
    "        else: add to stack\n",
    "\n",
    "'''\n",
    "\n",
    "\n",
    "def booth_navigation(clues):\n",
    "    stack = []\n",
    "\n",
    "    for i in clues:\n",
    "        if i == \"back\" and stack:\n",
    "            stack.pop()\n",
    "        else:\n",
    "            if i != \"back\":\n",
    "                stack.append(i)\n",
    "    return stack\n",
    "\n",
    "clues = [1, 2, \"back\", 3, 4]\n",
    "print(booth_navigation(clues)) \n",
    "\n",
    "clues = [5, 3, 2, \"back\", \"back\", 7]\n",
    "print(booth_navigation(clues)) \n",
    "\n",
    "clues = [1, \"back\", 2, \"back\", \"back\", 3]\n",
    "print(booth_navigation(clues)) "
   ]
  }
 ],
 "metadata": {
  "kernelspec": {
   "display_name": "Python 3",
   "language": "python",
   "name": "python3"
  },
  "language_info": {
   "codemirror_mode": {
    "name": "ipython",
    "version": 3
   },
   "file_extension": ".py",
   "mimetype": "text/x-python",
   "name": "python",
   "nbconvert_exporter": "python",
   "pygments_lexer": "ipython3",
   "version": "3.13.1"
  }
 },
 "nbformat": 4,
 "nbformat_minor": 5
}
